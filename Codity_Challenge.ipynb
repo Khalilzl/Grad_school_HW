{
 "cells": [
  {
   "cell_type": "code",
   "execution_count": 84,
   "metadata": {},
   "outputs": [
    {
     "name": "stdout",
     "output_type": "stream",
     "text": [
      "[-5, -1]\n"
     ]
    }
   ],
   "source": [
    "def myfunction(A):\n",
    "    \n",
    "    print(sorted(A))\n",
    "\n",
    "    if   1 <= len(A) <= 100000:\n",
    "        \n",
    "        minA=min(A)\n",
    "        maxA=max(A)\n",
    "        \n",
    "        if max(A)<=10000 and min(A)<=10000\n",
    "\n",
    "        for i in (0,len(A)-2):\n",
    "            if A[i]>0:\n",
    "                if A[i+1]>A[i]+1:\n",
    "                    print(A[i]+1)\n",
    "            elif i==(len(A)-1):\n",
    "                print(1)\n",
    "\n",
    "    else:\n",
    "        print(\"Incorrect N\")\n",
    "    \n",
    "myfunction([-1,-5])"
   ]
  },
  {
   "cell_type": "code",
   "execution_count": 145,
   "metadata": {},
   "outputs": [
    {
     "name": "stdout",
     "output_type": "stream",
     "text": [
      "The binary counterpart of 1 is  1\n",
      "The position of ones is [1]\n"
     ]
    },
    {
     "data": {
      "text/plain": [
       "'there is no bridge'"
      ]
     },
     "execution_count": 145,
     "metadata": {},
     "output_type": "execute_result"
    }
   ],
   "source": [
    "# We start by defining a function that maps an integer to its binary counterpart\n",
    "\n",
    "def binary(N):\n",
    "    \n",
    "    binary=str(bin(N)[2:])\n",
    "    return(binary)\n",
    "  \n",
    "    \n",
    "def solution(N): \n",
    "    \n",
    "    # N needs to be an integer within the range [1..2,147,483,647]\n",
    "    \n",
    "    if N>0 and N<2147483648:\n",
    "    \n",
    "        print(\"The binary counterpart of\", N, \"is \",binary(N))\n",
    "        \n",
    "        # Initialize lists containing indexes of 1, and bridges\n",
    "        oneIndex=[]\n",
    "        bridge=[]\n",
    "        \n",
    "        # Build indexes of 1 \n",
    "        j=0\n",
    "        for i in binary(N):\n",
    "            j=j+1\n",
    "            if i==\"1\":\n",
    "                oneIndex.append(j)\n",
    "    \n",
    "        print(\"The position of ones is\", oneIndex)\n",
    "        \n",
    "        # Construct bridges\n",
    "        m=0\n",
    "        for k in oneIndex:\n",
    "            m=m+1\n",
    "            if m<len(oneIndex):\n",
    "                bridge.append((oneIndex[m]-oneIndex[m-1])-1)\n",
    "\n",
    "        # Return maximum bridge\n",
    "        \n",
    "        if len(bridge)>1:\n",
    "            print(\"Bridge is equal to \",max(bridge))\n",
    "        elif len(bridge)>0:\n",
    "            print(\"Bridge is equal to \",bridge)\n",
    "        elif len(bridge)==0:\n",
    "            return(\"There is no bridge\")\n",
    "    else:\n",
    "        print(\"N is outside the range [1..2,147,483,647]\")\n",
    "    \n",
    "solution(1)"
   ]
  },
  {
   "cell_type": "code",
   "execution_count": 177,
   "metadata": {
    "collapsed": true
   },
   "outputs": [],
   "source": [
    "def solution(A,K):\n",
    "    \n",
    "    # We impose that A is a list\n",
    "    \n",
    "    if type(A)==list:\n",
    "    \n",
    "        N=len(A)\n",
    "    \n",
    "        if N>=0 and K>0 and N<101 and K<101 and type(K)==int and type(N)==int:\n",
    "            \n",
    "            # Case: when the length of the vector is 1\n",
    "            if len(A)==1:\n",
    "                print(A)            \n",
    "            \n",
    "            # Case: when the length of the vector is 2\n",
    "            if len(A)==2:\n",
    "                for k in range(0,K):\n",
    "                    temp=A[0]\n",
    "                    A[0]=A[1]\n",
    "                    A[1]=temp\n",
    "                print(A)\n",
    "                \n",
    "            # Case: when the length of the vector is larger than 2\n",
    "            if len(A)>2:\n",
    "                for k in range(0,K):\n",
    "                    B=[]\n",
    "                    for j in range(0,len(A)):\n",
    "                        if j==0:\n",
    "                            B.append(A[len(A)-1])\n",
    "                        else:\n",
    "                            B.append(A[j-1])\n",
    "                    print(B)\n",
    "                    A=B\n",
    "            \n",
    "        else:\n",
    "            print(\"Warning: N and K must be integers within the range [0..100]\")\n",
    "            \n",
    "    else:\n",
    "        print(\"Warning: A must be an list\")"
   ]
  },
  {
   "cell_type": "code",
   "execution_count": 378,
   "metadata": {
    "collapsed": true
   },
   "outputs": [],
   "source": [
    "import collections as c\n",
    "\n",
    "def OneNuneven(A):\n",
    "    Count=c.Counter(A)\n",
    "    Uneven=0\n",
    "    \n",
    "    for i in set(A):\n",
    "        if Count[i] % 2 == 1:\n",
    "            Uneven=Uneven+1\n",
    "    return(Uneven)\n",
    "\n",
    "def uneven(A):\n",
    "    Count=c.Counter(A)\n",
    "\n",
    "    for i in set(A):\n",
    "        if Count[i] % 2 == 1:\n",
    "            return(i)\n",
    "\n",
    "def solution(A):\n",
    "\n",
    "    # We impose that A is a list\n",
    "    if type(A)==list:\n",
    "        N=len(A)\n",
    "        if N>0 and N<1000001 and max(A)<1000000000 and min(A)>0:\n",
    "            if OneNuneven(A)==1:\n",
    "                 print(uneven(A))\n",
    "            else:\n",
    "                print(\"all but one of the values in A must occur an even number of times\")\n",
    "                       "
   ]
  },
  {
   "cell_type": "code",
   "execution_count": 379,
   "metadata": {},
   "outputs": [
    {
     "name": "stdout",
     "output_type": "stream",
     "text": [
      "12\n"
     ]
    }
   ],
   "source": [
    "solution([1,1,4,2,2,4,5,5,8,8,12])"
   ]
  },
  {
   "cell_type": "code",
   "execution_count": 393,
   "metadata": {
    "collapsed": true
   },
   "outputs": [],
   "source": [
    "def Njumps(X,Y,D):\n",
    "    \n",
    "    if type(X)==int and type(Y)==int and type(D)==int:\n",
    "        if min(X,Y,D)>0 and max(X,Y,D)<1000000001:\n",
    "            if X<=Y:\n",
    "                \n",
    "                print(round((Y-X)/D)+1)\n",
    "        \n",
    "        else:\n",
    "            print(\"X, Y and D should be within the range [1..1,000,000,000]\")\n",
    "    \n",
    "    else:\n",
    "        print(\"X,Y and D should be integers\")\n",
    "        \n",
    "        \n",
    "        "
   ]
  },
  {
   "cell_type": "code",
   "execution_count": 392,
   "metadata": {},
   "outputs": [
    {
     "name": "stdout",
     "output_type": "stream",
     "text": [
      "3\n"
     ]
    }
   ],
   "source": [
    "Njumps(19,85,30)"
   ]
  },
  {
   "cell_type": "code",
   "execution_count": 451,
   "metadata": {
    "collapsed": true
   },
   "outputs": [],
   "source": [
    "def solution(A):\n",
    "    \n",
    "    if type(A)==list:\n",
    "        N=len(A)\n",
    "        \n",
    "        if N>=0 and N<100001:\n",
    "            if len(A)==len(set(A)):\n",
    "                \n",
    "                # We first sort A \n",
    "                # if the length of A is equal to the last\n",
    "                # entry in A minus one\n",
    "                \n",
    "                A.sort()\n",
    "                if len(A)==A[len(A)-1]-1:\n",
    "                    \n",
    "                    j=0\n",
    "                    for i in A:\n",
    "                        j=j+1\n",
    "                        if i!=j:\n",
    "                            print(j)\n",
    "                            break\n",
    "                \n",
    "                else:\n",
    "                    print(\"Each element of array A should be an integer within the range [1..(N + 1)]\")\n",
    "            else:\n",
    "                print(\"The elements of A should be all distinct\")\n",
    "        else: \n",
    "            print(N, \" N must be within the range [0..100,000]\")\n",
    "    else:\n",
    "        print(\"Input A as a list\")"
   ]
  },
  {
   "cell_type": "code",
   "execution_count": 567,
   "metadata": {
    "collapsed": true
   },
   "outputs": [],
   "source": [
    "def solution(A):\n",
    "    if type(A)==list:\n",
    "        \n",
    "        N=len(A)\n",
    "        if N>1 and N<100001 and min(A)>-1000 and max(A)<1000:\n",
    "               \n",
    "                Nsplit=N-1\n",
    "                \n",
    "                Absdiff=[]\n",
    "                for i in range(1,Nsplit+1):\n",
    "                    \n",
    "                    \n",
    "                    PartOne=0\n",
    "                    PartTwo=0\n",
    "                    \n",
    "                    for j in range (0,i):\n",
    "                        PartOne=PartOne+A[j]\n",
    "                    \n",
    "                    PartTwo=sum(A)-PartOne\n",
    "                    a=abs(PartOne-PartTwo)\n",
    "                    \n",
    "                    Absdiff.append(a)\n",
    "                \n",
    "                print(\"The achievable minimmum difference is \",min(Absdiff))\n",
    "                    \n",
    "            \n",
    "        else:\n",
    "            print(\"N must be an integer within the range [2..100,000] and each element of A must be within the range [−1,000..1,000]\")\n",
    "            \n",
    "    else:\n",
    "        print(\"You must enter A as a list\")\n",
    "    \n",
    "    "
   ]
  },
  {
   "cell_type": "code",
   "execution_count": 631,
   "metadata": {
    "collapsed": true
   },
   "outputs": [],
   "source": [
    "def solution(N,A):\n",
    "    \n",
    "    if type(A)==list and len(A)>1:\n",
    "        if min(A)>0 and max(A)<N+2:\n",
    "            if type(N)==int and  N>0 and N<10001:\n",
    "                \n",
    "                Counters = [0] * N\n",
    "                \n",
    "                for i in A:\n",
    "                    if i<N+1:\n",
    "                        Counters[i-1]=Counters[i-1]+1\n",
    "                    else:\n",
    "                        maxi=max(Counters)\n",
    "                        for j in range(0,len(Counters)):\n",
    "                            Counters[j]=maxi\n",
    "                    \n",
    "                return(Counters)\n",
    "            \n",
    "            else:\n",
    "                print(\"N must be an integer within [1 .. 100000]\")\n",
    "        else:\n",
    "            print(\"A should consist of integers within [1 .. N+1]\")\n",
    "    else:\n",
    "        print(\"A needs to be a non-empty array\")\n",
    "    \n",
    "    "
   ]
  },
  {
   "cell_type": "code",
   "execution_count": 928,
   "metadata": {
    "collapsed": true
   },
   "outputs": [],
   "source": [
    "def solution(S,P,Q):\n",
    "    \n",
    "    if type(S)==str and type(P)==list and type(Q)==list:\n",
    "        \n",
    "        if sorted(set(S))==['A', 'C', 'G', 'T']:\n",
    "            \n",
    "            N=len(S)\n",
    "            M=len(P)\n",
    "            \n",
    "            if len(Q)==M:\n",
    "                \n",
    "                if N>0 and N<100001 and M>0 and M<50001:\n",
    "                    \n",
    "                    if min(P)>=0 and min(Q)>=0 and max(P)<N and max(Q)<N:\n",
    "                       \n",
    "                    # Check that P[K] ≤ Q[K]\n",
    "                        if min([q_i - p_i for q_i, p_i in zip(Q, P)])>=0:\n",
    "                        \n",
    "                            S=[1 if i ==\"A\" else 2 if i==\"C\" else 3 if i==\"G\" else 4 if i==\"T\" else i for i in S]\n",
    "                            result=[]\n",
    "                            for j in range(0,M):\n",
    "                                factors=[]\n",
    "                                \n",
    "                                \n",
    "                                for l in range(P[j],Q[j]+1):\n",
    "                                    factors.append(S[l])\n",
    "                                    \n",
    "                                result.append(min(factors))\n",
    "                            print(result)\n",
    "                    \n",
    "                        else:\n",
    "                            print(\"P[K] should be less than Q[K]\")\n",
    "                    else:\n",
    "                        print(\"Each element of arrays P, Q should be an integer within the range [0..,\",N,\"− 1]\") \n",
    "                else:\n",
    "                    print(\"N is an integer within the range [1..100,000] and M is an integer within the range [1..50,000]\")  \n",
    "            else: \n",
    "                print(\"Q should have the same length as P\")  \n",
    "        else:\n",
    "            print(\"S should be a list of letters A,C,T or G\")\n",
    "    else:\n",
    "        print(\"S, P and Q should be lists\")"
   ]
  },
  {
   "cell_type": "code",
   "execution_count": 1032,
   "metadata": {
    "collapsed": true
   },
   "outputs": [],
   "source": [
    "def overlap(A):\n",
    "    \n",
    "    \n",
    "    # We force A to be a list and to have at least 2 elements\n",
    "    if type(A)==list and len(A)>-1 and len(A)<100001 and min(A)>-1 and max(A)<2147483648:\n",
    "        \n",
    "        \n",
    "        right=[]\n",
    "        left=[]\n",
    "        \n",
    "        j=-1\n",
    "        for i in A:\n",
    "            j+=1\n",
    "            \n",
    "            # If the center of the disc on the left side +\n",
    "            # its radius is greater than the center of the disc\n",
    "            # on the right side - its radius, we have an overlap\n",
    "            \n",
    "            # define left and right \n",
    "            # left is the further left point of a disc\n",
    "            # right is further right point of a disct\n",
    "            \n",
    "            left.append(j-A[j])\n",
    "            right.append(j+A[j])\n",
    "        \n",
    "        # Number of overlappings\n",
    "        Nover=0    \n",
    "        \n",
    "        # t1 is the index of the vector right\n",
    "        # t2 is the index of the vector left\n",
    "        \n",
    "        t1=-1\n",
    "        for j in right:\n",
    "            t1=t1+1\n",
    "            \n",
    "            t2=-1\n",
    "            for i in left:\n",
    "                t2=t2+1\n",
    "                \n",
    "                # We don't want to compare discs to themselves\n",
    "                # and therefore impose t2>t1\n",
    "                # j>i means that we have an overlap\n",
    "                \n",
    "                if t2>t1 and j>i:\n",
    "                    Nover=Nover+1\n",
    "    \n",
    "        print(Nover)\n",
    "    \n",
    "    else:\n",
    "        print(\"N should be an integer within the range [0..100,000]\" \\\n",
    "              \"and each element of array A should be an integer within the range [0..2,147,483,647].\")\n",
    "        "
   ]
  },
  {
   "cell_type": "code",
   "execution_count": 1163,
   "metadata": {},
   "outputs": [
    {
     "name": "stdout",
     "output_type": "stream",
     "text": [
      "The sequence that minimizes val( [1, 5, 2, -2] , S) is (-1, 1, -1, 1)\n"
     ]
    }
   ],
   "source": [
    "import itertools as iter\n",
    "\n",
    "def solution(A):\n",
    "    \n",
    "    if type(A)==list:\n",
    "        \n",
    "        N=len(A)\n",
    "        \n",
    "        if N >-1 and N<20001 and min(A)>-101 and max(A)<101:\n",
    "            \n",
    "            Set=[-1,1]\n",
    "            perm=[]\n",
    "            for sequence in iter.product(Set, repeat=N):\n",
    "                perm.append(sequence)\n",
    "            \n",
    "            Result=[]\n",
    "            for enum in perm:\n",
    "                Result.append(abs(sum([a*b for a,b in zip(enum,A)])))\n",
    "            \n",
    "            minIndex=Result.index(min(Result))\n",
    "            print(\"The sequence that minimizes val(\",A,\", S) is\",perm[minIndex])\n",
    "            \n",
    "        else:\n",
    "            print(\"N should be an integer within the range [0..20,000]\\\n",
    "         and each element of array A an integer within the range [−100..100]\")\n",
    "    \n",
    "    else:\n",
    "        print(\"Enter A as a list\")\n",
    "            \n",
    "            \n",
    "            \n",
    "solution([1,5,2,-2])"
   ]
  },
  {
   "cell_type": "code",
   "execution_count": 1473,
   "metadata": {
    "collapsed": true
   },
   "outputs": [],
   "source": [
    "import random as rd\n",
    "\n",
    "def sol(A):\n",
    "    \n",
    "        if type(A)==list and len(A)>0 and len(A)<100001 and min(A)>0 \\\n",
    "        and max(A)<1000000001 and len(A)==len(set(A)):\n",
    "            \n",
    "            N=len(A)\n",
    "            \n",
    "            # Direction = Stay or Change, starting from left\n",
    "            \n",
    "            Dir=[\"S\",\"C\"]\n",
    "            path=[]\n",
    "            \n",
    "            # Enumerate all possible paths of \"S\" and \"C\"\n",
    "            for sequence in iter.product(Dir, repeat=N-1):\n",
    "                path.append(list(sequence))\n",
    "            \n",
    "            \n",
    "            # remove paths where you change direction more than twice\n",
    "            j=-1\n",
    "            for d in path:\n",
    "                j+=1\n",
    "                if d.count('C')>2:\n",
    "                    path.pop(j)\n",
    "            \n",
    "            # Create a score for each possible path\n",
    "            \n",
    "            # initialize vector of scores\n",
    "            S=[]\n",
    "            for p in path:\n",
    "                changed=0\n",
    "                s=0\n",
    "            \n",
    "                j=-1\n",
    "                for a in A:\n",
    "                    j+=1\n",
    "                    \n",
    "                    #Case: you are at the starting point \n",
    "                    if j==0:\n",
    "                    \n",
    "                        #You pass by the next gate if it's on the left side\n",
    "                        if A[j+1]<A[j]:\n",
    "                            s=s+1\n",
    "                    \n",
    "                    #Case: you are not at the starting point\n",
    "                    if j>0:\n",
    "                        \n",
    "                        # If you stay your direction\n",
    "                        \n",
    "                        if p[j-1]==\"S\":\n",
    "                        \n",
    "                            if A[j]<A[j-1]:\n",
    "                                s=s+1\n",
    "                        # If you change direction\n",
    "                        \n",
    "                        elif p[j-1]==\"C\":\n",
    "                            changed=changed+1\n",
    "                            \n",
    "                            # If this is the first time you change\n",
    "                            # Your direction is right\n",
    "                            \n",
    "                            if changed==1:\n",
    "                                if A[j]>A[j-1]:\n",
    "                                    s=s+1\n",
    "                            # If this is the second time you change\n",
    "                            # Your direction is left again       \n",
    "                            elif changed==2:\n",
    "                                if A[j]<A[j-1]:\n",
    "                                    s=s+1\n",
    "                                      \n",
    "                S.append(s)\n",
    "                \n",
    "                return(S)\n",
    "        else:\n",
    "            print(\"A does not satisfy the required assumptions. Check assumptions and enter a valid A.\")"
   ]
  },
  {
   "cell_type": "code",
   "execution_count": 1474,
   "metadata": {},
   "outputs": [
    {
     "name": "stdout",
     "output_type": "stream",
     "text": [
      "A does not satisfy the required assumptions. Check assumptions and enter a valid A.\n"
     ]
    }
   ],
   "source": [
    "sol([15,13,5,7,4,10,12,8,2,11,6,9,3,3])"
   ]
  },
  {
   "cell_type": "code",
   "execution_count": 1489,
   "metadata": {
    "collapsed": true
   },
   "outputs": [],
   "source": [
    "import random as rd\n",
    "\n",
    "def sol(A):\n",
    "    \n",
    "        if type(A)==list and len(A)>0 and len(A)<100001 and min(A)>0 \\\n",
    "        and max(A)<1000000001 and len(A)==len(set(A)):\n",
    "            \n",
    "            N=len(A)\n",
    "            \n",
    "            # Direction = Stay or Change, starting from left\n",
    "            \n",
    "            Dir=[\"S\",\"C\"]\n",
    "            path=[]\n",
    "            \n",
    "            # Enumerate all possible paths of \"S\" and \"C\"\n",
    "            for sequence in iter.product(Dir, repeat=N-1):\n",
    "                path.append(list(sequence))\n",
    "            \n",
    "            \n",
    "            # remove paths where you change direction more than twice\n",
    "            j=-1\n",
    "            for d in path:\n",
    "                j+=1\n",
    "                if d.count('C')>2:\n",
    "                    path.pop(j)\n",
    "            \n",
    "            # Create a score for each possible path\n",
    "            \n",
    "            # initialize vector of scores\n",
    "            S=[]\n",
    "            for p in path:\n",
    "                changed=0\n",
    "                s=0\n",
    "            \n",
    "                for j in range(-1,len(A)-1):\n",
    "                    \n",
    "                    #Case: you are at the starting point \n",
    "                    if j==-1:\n",
    "                    \n",
    "                        #You pass by the next gate if it's on the left side\n",
    "                        if A[j+1]<A[j]:\n",
    "                            s=s+1\n",
    "                    \n",
    "                    #Case: you are not at the starting point\n",
    "                    if j>-1:\n",
    "                        \n",
    "                        # If you stay your direction\n",
    "                        \n",
    "                        if p[j-1]==\"S\":\n",
    "                        \n",
    "                            if A[j]<A[j-1]:\n",
    "                                s=s+1\n",
    "                        # If you change direction\n",
    "                        \n",
    "                        elif p[j-1]==\"C\":\n",
    "                            changed=changed+1\n",
    "                            \n",
    "                            # If this is the first time you change\n",
    "                            # Your direction is right\n",
    "                            \n",
    "                            if changed==1:\n",
    "                                if A[j]>A[j-1]:\n",
    "                                    s=s+1\n",
    "                            # If this is the second time you change\n",
    "                            # Your direction is left again       \n",
    "                            elif changed==2:\n",
    "                                if A[j]<A[j-1]:\n",
    "                                    s=s+1\n",
    "                                      \n",
    "                S.append(s)\n",
    "                \n",
    "                return(S)\n",
    "        else:\n",
    "            print(\"A does not satisfy the required assumptions. Check assumptions and enter a valid A.\")"
   ]
  },
  {
   "cell_type": "code",
   "execution_count": 1515,
   "metadata": {},
   "outputs": [
    {
     "name": "stdout",
     "output_type": "stream",
     "text": [
      "\n",
      "The following command must be run outside of the IPython shell:\n",
      "\n",
      "    $ pip install numpy\n",
      "\n",
      "The Python package manager (pip) can only be used from outside of IPython.\n",
      "Please reissue the `pip` command in a separate terminal or command prompt.\n",
      "\n",
      "See the Python documentation for more informations on how to install packages:\n",
      "\n",
      "    https://docs.python.org/3/installing/\n"
     ]
    }
   ],
   "source": [
    "pip install numpy"
   ]
  },
  {
   "cell_type": "code",
   "execution_count": 2007,
   "metadata": {
    "collapsed": true
   },
   "outputs": [],
   "source": [
    "import numpy as np\n",
    "\n",
    "def ConstructRaft(N,S,T):\n",
    "    \n",
    "    if type(N)==int and N%2==0 and N>1 and N<27:\n",
    "        \n",
    "        raft=np.zeros((N,N))    \n",
    "        r=-1\n",
    "        c=-1\n",
    "    \n",
    "        for i in range(0,(len(S)+1)//3):\n",
    "            \n",
    "            row=3*i\n",
    "            col=1+3*i\n",
    "            \n",
    "            raftR=int(S[row])-1\n",
    "            raftC=int(ord(S[col])-65)\n",
    "            \n",
    "            raft[raftR][raftC]=-1\n",
    "                \n",
    "        for i in range(0,(len(T)+1)//3):\n",
    "            \n",
    "            row=3*i\n",
    "            col=1+3*i\n",
    "            \n",
    "            raftR=int(T[row])-1\n",
    "            raftC=int(ord(T[col])-65)\n",
    "            \n",
    "            raft[raftR][raftC]=1\n",
    "    \n",
    "        return(raft)\n",
    "        \n",
    "    else:\n",
    "        print(N,\"N should be an even integer within the range [2..26]\")\n",
    "    \n",
    "    \n",
    "def optimize(raft):\n",
    "    \n",
    "    N=len(raft)\n",
    "    \n",
    "    # First how many empty seats do we have?\n",
    "    empty=(N*N)-np.count_nonzero(raft)\n",
    "    \n",
    "    # Now generate all possible sequences: fit dwarf or leave empty\n",
    "    \n",
    "    arrangement=[]\n",
    "    for sequence in iter.product([0,1], repeat=empty):\n",
    "        arrangement.append(list(sequence))\n",
    "    \n",
    "    \n",
    "    # Now place dwarfs according to these arrangements\n",
    "    \n",
    "    ZeroRow=np.where(raft==0)[0]\n",
    "    ZeroCol=np.where(raft==0)[1]\n",
    "    \n",
    "    maxdwarf=[]\n",
    "    \n",
    "    for seq in arrangement:\n",
    "        k=-1\n",
    "        for dwarf in seq:\n",
    "            k=k+1\n",
    "\n",
    "            raft.itemset((ZeroRow[k],ZeroCol[k]), dwarf)\n",
    "            \n",
    "            \n",
    "            # Do not account for barrels\n",
    "\n",
    "            for i in range(0,len(raft)):\n",
    "                for j in range(0,len(raft)):\n",
    "                    \n",
    "                    if(raft[i][j])==-1:\n",
    "                        raft.itemset((i,j), 0)\n",
    "        \n",
    "        # Verify stability\n",
    "\n",
    "        # Upper left\n",
    "        \n",
    "        UL=0\n",
    "        for a in range(0,int(len(raft)/2)-1):\n",
    "            for b in range(0,int(len(raft)/2)-1):\n",
    "                UL=UL+raft[a][b]\n",
    "        \n",
    "        # Lower left\n",
    "        LL=0\n",
    "        for a in range(int(len(raft)/2),len(raft)):\n",
    "            for b in range(0,int(len(raft)/2)):\n",
    "                LL=LL+raft[a][b]\n",
    "                \n",
    "                \n",
    "        # Upper right\n",
    "        UR=0\n",
    "        for a in range(0,int(len(raft)/2)):\n",
    "            for b in range(int(len(raft)/2),len(raft)):\n",
    "                UR=UR+raft[a][b]\n",
    "\n",
    "        # Lower right\n",
    "        LR=0\n",
    "        for a in range(int(len(raft)/2),len(raft)):\n",
    "            for b in range(int(len(raft)/2),len(raft)):\n",
    "                LR=LR+raft[a][b]\n",
    "\n",
    "        \n",
    "        if (UL+LL)==(UR+LR) and (UL+UR)==(LL+LR):\n",
    "            maxdwarf.append(np.sum(raft))\n",
    "                    \n",
    "    print(max(maxdwarf))\n",
    "    \n",
    "    # Need to remove existing dwarfs and done"
   ]
  },
  {
   "cell_type": "code",
   "execution_count": 2008,
   "metadata": {},
   "outputs": [
    {
     "name": "stdout",
     "output_type": "stream",
     "text": [
      "7.0\n"
     ]
    }
   ],
   "source": [
    "raft=ConstructRaft(4,\"1B 1C 4B 1D 2A\",\"3B 2D\")\n",
    "\n",
    "\n",
    "optimize(raft)\n",
    "\n",
    "    "
   ]
  },
  {
   "cell_type": "code",
   "execution_count": 14,
   "metadata": {},
   "outputs": [
    {
     "data": {
      "text/plain": [
       "17500.0"
      ]
     },
     "execution_count": 14,
     "metadata": {},
     "output_type": "execute_result"
    }
   ],
   "source": [
    "seq = int(40000/4)*(1-0.25)\n",
    "seq\n",
    "seq2=seq+int(40000/4)*(0.25)\n",
    "seq2+int(40000/4)*(1-0.25)"
   ]
  },
  {
   "cell_type": "code",
   "execution_count": 26,
   "metadata": {
    "collapsed": true
   },
   "outputs": [],
   "source": [
    "for x in range(1, 5):\n",
    "    globals()['string%s' % x] = 'Hello'\n",
    "    \n"
   ]
  },
  {
   "cell_type": "code",
   "execution_count": 27,
   "metadata": {},
   "outputs": [
    {
     "data": {
      "text/plain": [
       "'Hello'"
      ]
     },
     "execution_count": 27,
     "metadata": {},
     "output_type": "execute_result"
    }
   ],
   "source": []
  },
  {
   "cell_type": "code",
   "execution_count": 2,
   "metadata": {},
   "outputs": [
    {
     "name": "stdout",
     "output_type": "stream",
     "text": [
      "1\n",
      "2\n",
      "3\n",
      "4\n"
     ]
    }
   ],
   "source": [
    "for i in range(1,5):\n",
    "    print(i)"
   ]
  },
  {
   "cell_type": "code",
   "execution_count": null,
   "metadata": {
    "collapsed": true
   },
   "outputs": [],
   "source": []
  },
  {
   "cell_type": "code",
   "execution_count": null,
   "metadata": {
    "collapsed": true
   },
   "outputs": [],
   "source": []
  },
  {
   "cell_type": "code",
   "execution_count": null,
   "metadata": {
    "collapsed": true
   },
   "outputs": [],
   "source": []
  },
  {
   "cell_type": "code",
   "execution_count": null,
   "metadata": {
    "collapsed": true
   },
   "outputs": [],
   "source": []
  },
  {
   "cell_type": "code",
   "execution_count": null,
   "metadata": {
    "collapsed": true
   },
   "outputs": [],
   "source": []
  },
  {
   "cell_type": "code",
   "execution_count": null,
   "metadata": {
    "collapsed": true
   },
   "outputs": [],
   "source": []
  },
  {
   "cell_type": "code",
   "execution_count": null,
   "metadata": {
    "collapsed": true
   },
   "outputs": [],
   "source": []
  }
 ],
 "metadata": {
  "kernelspec": {
   "display_name": "Python 3",
   "language": "python",
   "name": "python3"
  },
  "language_info": {
   "codemirror_mode": {
    "name": "ipython",
    "version": 3
   },
   "file_extension": ".py",
   "mimetype": "text/x-python",
   "name": "python",
   "nbconvert_exporter": "python",
   "pygments_lexer": "ipython3",
   "version": "3.6.2"
  }
 },
 "nbformat": 4,
 "nbformat_minor": 2
}
